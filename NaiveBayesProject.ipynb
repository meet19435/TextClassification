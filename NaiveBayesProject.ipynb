{
 "cells": [
  {
   "cell_type": "code",
   "execution_count": 18,
   "metadata": {},
   "outputs": [],
   "source": [
    "import pandas as pd #Pandas Module\n",
    "import numpy as np #Numpy array\n",
    "import re,operator\n",
    "from sklearn.model_selection import train_test_split #The Module to split the test and training data\n",
    "import os #Os module in python\n",
    "import sys #System module in python\n",
    "import matplotlib.pyplot as plt #Module used for plotting graphs\n",
    "from sklearn.metrics import classification_report #For classification Report\n",
    "from sklearn.metrics import confusion_matrix #For confusion Matrix\n",
    "from sklearn.naive_bayes import GaussianNB\n",
    "#Importing the Various Packages from python"
   ]
  },
  {
   "cell_type": "code",
   "execution_count": 2,
   "metadata": {},
   "outputs": [],
   "source": [
    "x=[] #The x or the input array for fitting and predicitng the data\n",
    "y=[] #The corresponding y for the \n",
    "for data_type in os.listdir(\"20_newsgroups\"): #For various categories in news\n",
    "    for file in os.listdir(\"20_newsgroups/\"+data_type): #For various files in each category\n",
    "        f=open(\"20_newsgroups/\"+data_type+\"/\"+file,\"r\") #Opening and Reading the file with the name\n",
    "        x.append(f.read()) #Storing the read data in a array x i.e is the input array or features array\n",
    "        y.append(data_type) #Storing the category in y which is the output\n"
   ]
  },
  {
   "cell_type": "code",
   "execution_count": 3,
   "metadata": {},
   "outputs": [],
   "source": [
    "x_train,x_test,y_train,y_test=train_test_split(x,y,random_state=0,test_size=0.25) #Splitting the data into train and test with test\n",
    "#data size being 0.25 or 25% of the size of the data\n",
    "stop = [\n",
    "\"a\", \"about\", \"above\", \"across\", \"after\", \"afterwards\", \n",
    "\"again\", \"all\", \"almost\", \"alone\", \"along\", \"already\", \"also\",    \n",
    "\"although\", \"always\", \"am\", \"among\", \"amongst\", \"amoungst\", \"amount\", \"an\", \"and\", \"another\", \"any\", \"anyhow\", \"anyone\", \"anything\", \"anyway\", \"anywhere\", \"are\", \"as\", \"at\", \"be\", \"became\", \"because\", \"become\",\"becomes\", \"becoming\", \"been\", \"before\", \"behind\", \"being\", \"beside\", \"besides\", \"between\", \"beyond\", \"both\", \"but\", \"by\",\"can\", \"cannot\", \"cant\", \"could\", \"couldnt\", \"de\", \"describe\", \"do\", \"done\", \"each\", \"eg\", \"either\", \"else\", \"enough\", \"etc\", \"even\", \"ever\", \"every\", \"everyone\", \"everything\", \"everywhere\", \"except\", \"few\", \"find\",\"for\",\"found\", \"four\", \"from\", \"further\", \"get\", \"give\", \"go\", \"had\", \"has\", \"hasnt\", \"have\", \"he\", \"hence\", \"her\", \"here\", \"hereafter\", \"hereby\", \"herein\", \"hereupon\", \"hers\", \"herself\", \"him\", \"himself\", \"his\", \"how\", \"however\", \"i\", \"ie\", \"if\", \"in\", \"indeed\", \"is\", \"it\", \"its\", \"itself\", \"keep\", \"least\", \"less\", \"ltd\", \"made\", \"many\", \"may\", \"me\", \"meanwhile\", \"might\", \"mine\", \"more\", \"moreover\", \"most\", \"mostly\", \"much\", \"must\", \"my\", \"myself\", \"name\", \"namely\", \"neither\", \"never\", \"nevertheless\", \"next\",\"no\", \"nobody\", \"none\", \"noone\", \"nor\", \"not\", \"nothing\", \"now\", \"nowhere\", \"of\", \"off\", \"often\", \"on\", \"once\", \"one\", \"only\", \"onto\", \"or\", \"other\", \"others\", \"otherwise\", \"our\", \"ours\", \"ourselves\", \"out\", \"over\", \"own\", \"part\",\"perhaps\", \"please\", \"put\", \"rather\", \"re\", \"same\", \"see\", \"seem\", \"seemed\", \"seeming\", \"seems\", \"she\", \"should\",\"since\", \"sincere\",\"so\", \"some\", \"somehow\", \"someone\", \"something\", \"sometime\", \"sometimes\", \"somewhere\", \"still\", \"such\", \"take\",\"than\", \"that\", \"the\", \"their\", \"them\", \"themselves\", \"then\", \"thence\", \"there\", \"thereafter\", \"thereby\", \"therefore\", \"therein\", \"thereupon\", \"these\", \"they\",\n",
    "\"this\", \"those\", \"though\", \"through\", \"throughout\",\n",
    "\"thru\", \"thus\", \"to\", \"together\", \"too\", \"toward\", \"towards\",\n",
    "\"under\", \"until\", \"up\", \"upon\", \"us\",\n",
    "\"very\", \"was\", \"we\", \"well\", \"were\", \"what\", \"whatever\", \"when\",\n",
    "\"whence\", \"whenever\", \"where\", \"whereafter\", \"whereas\", \"whereby\",\n",
    "\"wherein\", \"whereupon\", \"wherever\", \"whether\", \"which\", \"while\", \n",
    "\"who\", \"whoever\", \"whom\", \"whose\", \"why\", \"will\", \"with\",\n",
    "\"within\", \"without\", \"would\", \"yet\", \"you\", \"your\", \"yours\", \"yourself\", \"yourselves\"\n",
    "] #Stop words that won't affect the category of the document or are not considered in text classiffication\n",
    "words={} #Dictionary for storing the count of each word that does not belong to stop class\n",
    "for i in x_train: #Traversing the input data\n",
    "    i=i.lower() #Converting the text data into lower case\n",
    "    data=re.split(r\"\\W+\",i) #Splitting the data on the bases of regular expression that consists of alpha numeric data \n",
    "    for word in data: #Traversing the whole words in the split data\n",
    "        if(not(word in stop) and word.isalpha() and len(word)>2): #Checking if the word is alphanumeric or not and length is valid or greater than 2\n",
    "#and it is not a stop word\n",
    "            if(word in words): #If already present in the dictionary then increment the count\n",
    "                words[word]=words[word]+1\n",
    "            else: #If not present then setting the count to 1\n",
    "                words[word]=1\n",
    "words=dict(sorted(words.items(),key=lambda item: item[1],reverse=True)) #Sorting the dictionary based on the values "
   ]
  },
  {
   "cell_type": "code",
   "execution_count": 4,
   "metadata": {},
   "outputs": [
    {
     "data": {
      "image/png": "[encoded data removed]",
      "text/plain": [
       "<Figure size 432x288 with 1 Axes>"
      ]
     },
     "metadata": {
      "needs_background": "light"
     },
     "output_type": "display_data"
    },
    {
     "name": "stdout",
     "output_type": "stream",
     "text": [
      "{'edu': 123562, 'cmu': 39355, 'com': 37175, 'news': 25765, 'srv': 24270, 'cantaloupe': 19555, 'net': 19162, 'message': 16478, 'subject': 16240, 'lines': 15678, 'date': 15599, 'apr': 15474, 'path': 15290, 'newsgroups': 15285, 'organization': 14837, 'state': 14239, 'gmt': 13317, 'ohio': 12036, 'writes': 11009, 'article': 10048, 'comp': 9955, 'references': 9749, 'talk': 9215, 'misc': 8968, 'ans': 8316, 'howland': 8242, 'sender': 8236, 'reston': 8226, 'don': 7862, 'people': 7726, 'like': 7648, 'university': 7467, 'just': 7369, 'posting': 7319, 'nntp': 7021, 'mps': 6959, 'know': 6705, 'host': 6680, 'sci': 6622, 'zaphod': 6269, 'think': 6169, 'usenet': 6155, 'alt': 5933, 'politics': 5842, 'windows': 5605, 'does': 5384, 'time': 5300, 'rutgers': 5262, 'harvard': 5184, 'use': 5170, 'near': 5152, 'eng': 5128, 'new': 4992, 'rec': 4845, 'good': 4725, 'sei': 4696, 'crabapple': 4661, 'noc': 4646, 'xref': 4566, 'soc': 4564, 'system': 4549, 'das': 4537, 'cis': 4369, 'max': 4369, 'god': 4120, 'religion': 4088, 'europa': 4064, 'gtefsd': 4051, 'org': 4038, 'world': 4037, 'uunet': 4022, 'ece': 3995, 'into': 3967, 'way': 3918, 'say': 3910, 'make': 3878, 'christian': 3867, 'two': 3858, 'gov': 3843, 'first': 3710, 'rochester': 3633, 'right': 3620, 'distribution': 3598, 'club': 3477, 'did': 3462, 'andrew': 3393, 'mail': 3385, 'space': 3380, 'gatech': 3317, 'magnesium': 3316, 'want': 3308, 'reply': 3210, 'utexas': 3194, 'udel': 3179, 'used': 3169, 'culture': 3166, 'said': 3162, 'sys': 3119, 'sun': 3083, 'need': 3075, 'ibm': 3049, 'work': 2977, 'uiuc': 2953, 'really': 2944, 'nasa': 2890, 'computer': 2834, 'believe': 2813, 'sura': 2806, 'problem': 2785, 'hardware': 2694, 'graphics': 2692, 'back': 2642, 'netcom': 2621, 'usa': 2576, 'years': 2542, 'mac': 2531, 'help': 2516, 'information': 2516, 'government': 2503, 'going': 2455, 'point': 2444, 'file': 2409, 'using': 2408, 'better': 2394, 'year': 2381, 'things': 2347, 'last': 2339, 'question': 2304, 'thanks': 2280, 'david': 2269, 'read': 2263, 'mit': 2218, 'sure': 2200, 'cso': 2188, 'usc': 2187, 'uucp': 2182, 'software': 2175, 'access': 2137, 'doesn': 2125, 'number': 2122, 'forsale': 2104, 'case': 2091, 'got': 2056, 'look': 2048, 'data': 2045, 'let': 2039, 'thing': 2038, 'cwru': 2027, 'long': 2024, 'fact': 1998, 'law': 1994, 'drive': 1980, 'day': 1978, 'atheism': 1976, 'program': 1957, 'apple': 1955, 'john': 1936, 'down': 1934, 'guns': 1930, 'science': 1921, 'available': 1905, 'columbia': 1902, 'version': 1898, 'come': 1882, 'bit': 1847, 'power': 1837, 'little': 1837, 'public': 1832, 'darwin': 1827, 'sport': 1823, 'against': 1817, 'tue': 1809, 'around': 1803, 'best': 1797, 'true': 1785, 'didn': 1771, 'probably': 1730, 'different': 1725, 'set': 1718, 'jesus': 1716, 'group': 1711, 'fri': 1708, 'research': 1701, 'car': 1697, 'try': 1667, 'actually': 1666, 'key': 1665, 'real': 1658, 'tell': 1656, 'line': 1647, 'man': 1647, 'game': 1642, 'course': 1641, 'att': 1641, 'washington': 1641, 'life': 1628, 'great': 1628, 'lot': 1623, 'list': 1620, 'run': 1598, 'hockey': 1597, 'post': 1589, 'bill': 1588, 'free': 1570, 'inc': 1566, 'support': 1555, 'systems': 1548, 'high': 1547, 'says': 1535, 'far': 1534, 'old': 1520, 'mean': 1516, 'called': 1514, 'second': 1494, 'end': 1490, 'stanford': 1482, 'pitt': 1479, 'call': 1476, 'wrong': 1472, 'yes': 1470, 'hard': 1464, 'thu': 1461, 'possible': 1456, 'non': 1452, 'internet': 1447, 'turkish': 1444, 'acs': 1444, 'autos': 1444, 'mon': 1440, 'general': 1435, 'ins': 1430, 'reason': 1430, 'athos': 1424, 'card': 1418, 'network': 1413, 'jewish': 1406, 'agate': 1398, 'able': 1384, 'umd': 1382, 'baseball': 1381, 'uwm': 1377, 'mark': 1374, 'order': 1371, 'team': 1371, 'person': 1368, 'looking': 1367, 'image': 1360, 'based': 1358, 'place': 1357, 'security': 1354, 'bad': 1351, 'technology': 1344, 'having': 1340, 'isn': 1340, 'maybe': 1338, 'email': 1335, 'seen': 1334, 'human': 1333, 'send': 1332, 'center': 1330, 'purdue': 1330, 'problems': 1329, 'unix': 1325, 'med': 1322, 'three': 1321, 'example': 1318, 'gun': 1308, 'israel': 1307, 'files': 1301, 'quite': 1298, 'info': 1291, 'control': 1290, 'american': 1290, 'following': 1289, 'sgi': 1274, 'michael': 1273, 'wrote': 1271, 'window': 1270, 'thought': 1270, 'doing': 1270, 'crypt': 1268, 'jews': 1259, 'chip': 1254, 'heard': 1246, 'trying': 1245, 'mideast': 1242, 'means': 1241, 'colorado': 1236, 'electronics': 1236, 'wed': 1234, 'children': 1225, 'virginia': 1221, 'berkeley': 1218, 'word': 1213, 'idea': 1206, 'given': 1205, 'national': 1201, 'phone': 1201, 'won': 1198, 'opinions': 1196, 'away': 1196, 'evidence': 1190, 'user': 1187, 'kind': 1184, 'today': 1183, 'geneva': 1180, 'haven': 1179, 'book': 1179, 'left': 1175, 'big': 1169, 'dos': 1169, 'keywords': 1165, 'times': 1162, 'service': 1157, 'abortion': 1154, 'start': 1152, 'toronto': 1152, 'getting': 1151, 'paul': 1149, 'several': 1149, 'ftp': 1145, 'questions': 1142, 'jpl': 1141, 'home': 1130, 'during': 1123, 'scsi': 1123, 'rights': 1122, 'followup': 1122, 'clipper': 1119, 'remember': 1115, 'code': 1113, 'history': 1112, 'note': 1112, 'saying': 1110, 'source': 1108, 'open': 1108, 'makes': 1108, 'steve': 1104, 'frank': 1099, 'wupost': 1097, 'mike': 1092, 'standard': 1088, 'fbi': 1086, 'caltech': 1084, 'change': 1080, 'games': 1079, 'department': 1078, 'institute': 1076, 'president': 1070, 'wanted': 1067, 'price': 1066, 'stuff': 1063, 'local': 1062, 'small': 1061, 'server': 1055, 'bogus': 1052, 'jim': 1050, 'digex': 1046, 'men': 1046, 'full': 1045, 'money': 1044, 'magnus': 1042, 'indiana': 1040, 'bible': 1038, 'win': 1037, 'fire': 1034, 'ask': 1029, 'ucs': 1028, 'sdd': 1026, 'large': 1025, 'answer': 1022, 'fax': 1017, 'mil': 1014, 'speed': 1008, 'address': 1006, 'matter': 1004, 'agree': 1004, 'running': 997, 'clinton': 994, 'issue': 991, 'canada': 988, 'motorcycles': 986, 'approved': 985, 'box': 982, 'told': 982, 'ago': 981, 'robert': 980, 'video': 979, 'type': 978, 'show': 978, 'days': 975, 'works': 972, 'sale': 971, 'whole': 971, 'original': 970, 'machine': 969, 'care': 968, 'hope': 966, 'interested': 966, 'states': 964, 'buy': 964, 'came': 957, 'pretty': 956, 'war': 954, 'health': 953, 'claim': 949, 'love': 948, 'college': 944, 'legal': 943, 'current': 941, 'hand': 940, 'play': 939, 'math': 938, 'church': 935, 'black': 929, 'april': 927, 'mind': 926, 'feel': 922, 'include': 919, 'live': 915, 'simply': 915, 'engineering': 915, 'important': 911, 'buffalo': 909, 'pay': 908, 'disk': 906, 'stratus': 906, 'christians': 900, 'sol': 897, 'sandvik': 897, 'christ': 896, 'white': 896, 'understand': 895, 'house': 894, 'including': 886, 'private': 884, 'netnews': 884, 'truth': 875, 'encryption': 874, 'started': 870, 'dept': 870, 'armenian': 864, 'eff': 864, 'caen': 857, 'went': 855, 'area': 854, 'earth': 853, 'cause': 852, 'cornell': 852, 'country': 850, 'comes': 850, 'copy': 850, 'value': 849, 'side': 847, 'wouldn': 845, 'soviet': 843, 'instead': 843, 'making': 842, 'certainly': 841, 'working': 838, 'cost': 836, 'memory': 836, 'programs': 832, 'color': 829, 'write': 826, 'igor': 823, 'guess': 823, 'death': 822, 'feed': 821, 'text': 821, 'newsreader': 819, 'consider': 815, 'california': 814, 'later': 813, 'bnr': 811, 'company': 810, 'hell': 808, 'unless': 807, 'san': 807, 'ucsd': 806, 'ctr': 806, 'pacific': 806, 'display': 804, 'difference': 804, 'single': 803, 'wisc': 803, 'faith': 801, 'brian': 796, 'opinion': 794, 'tried': 794, 'low': 792, 'view': 791, 'james': 789, 'police': 780, 'religious': 779, 'contact': 776, 'ecn': 773, 'major': 769, 'sat': 769, 'school': 768, 'faq': 767, 'light': 766, 'dec': 766, 'objective': 765, 'bitnet': 764, 'dead': 762, 'morality': 760, 'nice': 759, 'computers': 758, 'services': 758, 'deal': 758, 'words': 757, 'koresh': 756, 'check': 756, 'dave': 755, 'especially': 755, 'society': 752, 'argument': 752, 'clear': 752, 'sense': 751, 'sort': 751, 'anybody': 749, 'hedrick': 748, 'aramis': 745, 'known': 743, 'likely': 742, 'iastate': 742, 'peter': 741, 'top': 741, 'theory': 741, 'uni': 739, 'radio': 737, 'talking': 737, 'books': 737, 'self': 736, 'simple': 732, 'blue': 730, 'city': 729, 'via': 726, 'sni': 726, 'board': 725, 'screen': 723, 'correct': 723, 'armenians': 720, 'common': 720, 'pub': 720, 'similar': 720, 'force': 720, 'privacy': 719, 'certain': 718, 'killed': 718, 'provide': 717, 'press': 717, 'freenet': 717, 'women': 716, 'tin': 715, 'cleveland': 714, 'level': 714, 'monitor': 713, 'moral': 713, 'taken': 713, 'emory': 713, 'bob': 713, 'asked': 713, 'austin': 712, 'israeli': 711, 'couple': 710, 'summary': 710, 'fine': 710, 'fast': 708, 'mchp': 708, 'happened': 705, 'stop': 705, 'reading': 703, 'saw': 700, 'york': 700, 'fan': 699, 'political': 698, 'head': 698, 'per': 697, 'third': 697, 'sound': 695, 'application': 695, 'package': 695, 'body': 694, 'groups': 693, 'motif': 693, 'sorry': 692, 'umn': 691, 'exactly': 690, 'goes': 687, 'position': 685, 'laws': 684, 'players': 683, 'night': 682, 'account': 682, 'usually': 682, 'red': 680, 'sex': 679, 'output': 679, 'peachnet': 677, 'guy': 676, 'users': 676, 'early': 676, 'mot': 674, 'size': 673, 'personal': 672, 'statement': 671, 'elroy': 671, 'scott': 668, 'business': 668, 'kent': 668, 'east': 668, 'situation': 667, 'swrinde': 667, 'division': 667, 'written': 666, 'test': 665, 'advance': 664, 'physics': 662, 'interesting': 662, 'discussion': 662, 'experience': 661, 'took': 660, 'manager': 659, 'request': 655, 'rest': 654, 'easy': 653, 'office': 653, 'disclaimer': 652, 'needed': 652, 'insurance': 652, 'needs': 650, 'format': 649, 'form': 649, 'posted': 648, 'exist': 645, 'hear': 643, 'hit': 643, 'uses': 642, 'western': 640, 'corp': 640, 'astro': 640, 'cup': 639, 'period': 639, 'answers': 639, 'bike': 637, 'turn': 637, 'months': 636, 'anti': 636, 'germany': 636, 'arizona': 636, 'yale': 636, 'past': 635, 'ames': 635, 'happen': 634, 'according': 634, 'particular': 633, 'short': 633, 'ksu': 631, 'peace': 631, 'driver': 630, 'error': 629, 'season': 629, 'texas': 628, 'ones': 625, 'keys': 625, 'transfer': 624, 'bus': 624, 'smith': 624, 'add': 623, 'sources': 623, 'medical': 623, 'ogicse': 623, 'keith': 623, 'csd': 621, 'uci': 621, 'bbs': 620, 'kill': 619, 'corporation': 619, 'study': 618, 'members': 617, 'model': 617, 'numbers': 617, 'special': 615, 'front': 615, 'gas': 615, 'series': 615, 'isc': 613, 'longer': 611, 'week': 611, 'effect': 610, 'young': 610, 'accept': 609, 'duke': 609, 'thomas': 607, 'due': 606, 'plus': 605, 'project': 605, 'images': 605, 'tom': 605, 'air': 604, 'sell': 603, 'specific': 603, 'shall': 603, 'media': 602, 'ground': 602, 'recently': 600, 'face': 600, 'king': 600, 'mouse': 599, 'navy': 598, 'coming': 597, 'vms': 596, 'drivers': 596, 'communications': 596, 'lost': 595, 'return': 595, 'upenn': 595, 'future': 594, 'convex': 594, 'expect': 593, 'food': 593, 'mode': 593, 'microsoft': 591, 'action': 589, 'process': 588, 'worth': 588, 'taking': 587, 'gets': 585, 'performance': 584, 'united': 583, 'ufl': 583, 'move': 583, 'policy': 582, 'wasn': 582, 'job': 582, 'christianity': 580, 'federal': 579, 'league': 579, 'pat': 576, 'pipex': 575, 'military': 575, 'lord': 575, 'ray': 575, 'greek': 574, 'horus': 574, 'friend': 573, 'offer': 572, 'considered': 571, 'water': 571, 'outside': 568, 'land': 568, 'points': 566, 'term': 566, 'thinking': 565, 'results': 565, 'cases': 565, 'story': 564, 'doubt': 564, 'aren': 563, 'build': 561, 'cars': 560, 'uchicago': 559, 'involved': 558, 'newsserver': 557, 'reference': 557, 'result': 556, 'eric': 556, 'richard': 556, 'weapons': 555, 'various': 555, 'speak': 555, 'act': 554, 'values': 554, 'gap': 554, 'army': 553, 'design': 552, 'chris': 551, 'tape': 549, 'explain': 548, 'total': 548, 'close': 547, 'batf': 547, 'assume': 546, 'international': 546, 'soon': 545, 'voice': 545, 'response': 544, 'freedom': 544, 'jhu': 544, 'necessary': 542, 'choice': 541, 'looks': 541, 'optilink': 541, 'programmer': 541, 'road': 540, 'hold': 539, 'jon': 539, 'site': 538, 'million': 537, 'report': 536, 'uknet': 535, 'market': 535, 'comments': 535, 'technical': 535, 'athena': 534, 'built': 534, 'child': 533, 'related': 532, 'pittsburgh': 530, 'section': 530, 'player': 530, 'ideas': 529, 'environment': 529, 'rate': 528, 'tech': 528, 'deleted': 527, 'demon': 526, 'sin': 526, 'runs': 526, 'computing': 526, 'std': 526, 'univ': 525, 'crime': 524, 'bear': 524, 'george': 523, 'dod': 522, 'cover': 522, 'previous': 521, 'claims': 521, 'henry': 521, 'development': 520, 'parts': 520, 'knowledge': 520, 'population': 518, 'save': 518, 'building': 518, 'leave': 518, 'ubc': 518, 'field': 518, 'wants': 518, 'couldn': 518, 'allow': 517, 'willing': 516, 'father': 516, 'america': 515, 'interest': 514, 'issues': 513, 'present': 513, 'west': 513, 'includes': 513, 'cut': 512, 'ram': 512, 'asking': 511, 'clearly': 511, 'drives': 511, 'knows': 511, 'entry': 510, 'quality': 510, 'rules': 509, 'decwrl': 509, 'follow': 508, 'boston': 508, 'apps': 507, 'ide': 507, 'higher': 506, 'nec': 505, 'universe': 505, 'appreciated': 504, 'anonymous': 504, 'dan': 503, 'modem': 503, 'pro': 502, 'strong': 501, 'muslim': 501, 'main': 501, 'mantis': 501, 'sounds': 500, 'exists': 500, 'purpose': 499, 'nature': 498, 'watson': 497, 'command': 497, 'sent': 497, 'green': 496, 'armenia': 494, 'court': 494, 'currently': 493, 'reasons': 493, 'takes': 493, 'directory': 493, 'ways': 489, 'included': 489, 'joe': 489, 'europe': 489, 'die': 488, 'poster': 488, 'mentioned': 488, 'newsgroup': 488, 'applications': 487, 'arab': 486, 'drug': 485, 'machines': 485, 'unit': 485, 'arms': 485, 'waco': 483, 'existence': 483, 'scientific': 483, 'conspiracy': 483, 'completely': 482, 'genocide': 481, 'living': 481, 'useful': 481, 'appears': 480, 'north': 480, 'vax': 479, 'tek': 479, 'son': 479, 'complete': 478, 'umich': 477, 'belief': 477, 'portal': 476, 'alaska': 476, 'gives': 475, 'basis': 475, 'pgp': 474, 'chicago': 473, 'mcgill': 473, 'individual': 472, 'page': 472, 'administration': 472, 'doug': 471, 'manual': 470, 'gary': 468, 'lab': 468, 'meaning': 468, 'algorithm': 468, 'noise': 467, 'gateway': 467, 'princeton': 466, 'brown': 465, 'party': 464, 'half': 464, 'inside': 464, 'drugs': 462, 'average': 462, 'matthew': 462, 'cards': 461, 'faster': 461, 'turkey': 460, 'andy': 460, 'family': 460, 'community': 460, 'tim': 459, 'function': 459, 'atheists': 459, 'origins': 459, 'bought': 458, 'create': 458, 'below': 458, 'created': 458, 'defense': 458, 'acc': 458, 'mass': 458, 'illinois': 457, 'secret': 457, 'serial': 457, 'suggest': 457, 'language': 456, 'event': 456, 'paper': 456, 'rpi': 456, 'ncr': 455, 'advice': 455, 'views': 454, 'received': 454, 'device': 454, 'shot': 453, 'normal': 453, 'basic': 452, 'torn': 452, 'processing': 452, 'supposed': 451, 'south': 451, 'rush': 450, 'thank': 450, 'weeks': 450, 'fido': 450, 'chance': 449, 'muslims': 449, 'finally': 449, 'lots': 449, 'wait': 449, 'obviously': 449, 'class': 448, 'base': 448, 'launch': 448, 'required': 447, 'serious': 447, 'object': 447, 'necessarily': 447, 'energy': 447, 'events': 446, 'difficult': 446, 'stephen': 446, 'illegal': 444, 'author': 444, 'attack': 443, 'colostate': 443, 'coverage': 442, 'looked': 442, 'gave': 441, 'cable': 441, 'controller': 441, 'hours': 440, 'acsu': 439, 'digital': 439, 'cdt': 439, 'shuttle': 439, 'nott': 439, 'folks': 438, 'directly': 438, 'extra': 437, 'congress': 437, 'mitre': 437, 'context': 436, 'nhl': 436, 'cheap': 434, 'mcsun': 434, 'lead': 434, 'student': 434, 'zuma': 433, 'library': 433, 'engine': 432, 'plan': 432, 'spool': 432, 'adobe': 431, 'wish': 430, 'break': 430, 'oracle': 429, 'enforcement': 429, 'ncsu': 429, 'figure': 428, 'psu': 428, 'reality': 427, 'learn': 427, 'room': 427, 'primate': 427, 'wonder': 426, 'terms': 426, 'commercial': 426, 'definition': 426, 'reasonable': 426, 'owner': 425, 'actions': 425, 'station': 425, 'carry': 425, 'record': 424, 'carleton': 424, 'entire': 422, 'rose': 422, 'saimiri': 422, 'mnemosyne': 422, 'responsible': 421, 'lee': 421, 'tools': 421, 'rule': 421, 'central': 421, 'widget': 420, 'final': 419, 'lives': 419, 'happy': 418, 'murdoch': 418, 'volume': 417, 'details': 417, 'limited': 417, 'title': 417, 'ken': 417, 'places': 416, 'changed': 414, 'asd': 414, 'unfortunately': 412, 'edt': 412, 'prove': 412, 'door': 412, 'joseph': 412, 'heart': 411, 'tax': 411, 'method': 411, 'msdos': 411, 'equipment': 410, 'acns': 410, 'died': 410, 'happens': 410, 'americans': 409, 'batcomputer': 408, 'wondering': 408, 'civil': 408, 'reports': 407, 'stated': 407, 'condition': 407, 'russian': 407, 'products': 406, 'jeff': 406, 'imagine': 405, 'psinntp': 404, 'devices': 404, 'safety': 404, 'des': 404, 'art': 404, 'facts': 404, 'jvnc': 403, 'analysis': 403, 'evil': 403, 'dog': 402, 'miles': 402, 'letter': 402, 'recent': 402, 'release': 402, 'age': 402, 'allowed': 400, 'bring': 400, 'product': 399, 'compound': 399, 'online': 399, 'engr': 399, 'generally': 398, 'clock': 398, 'laboratory': 397, 'define': 397, 'ctron': 397, 'livesey': 397, 'companies': 396, 'designed': 396, 'hate': 396, 'mention': 396, 'late': 396, 'unc': 396, 'port': 396, 'citizens': 395, 'easily': 394, 'constitution': 394, 'stand': 394, 'street': 393, 'cramer': 393, 'printer': 393, 'logic': 393, 'trouble': 392, 'stupid': 392, 'roger': 392, 'reported': 391, 'interface': 391, 'oil': 391, 'turks': 390, 'suppose': 390, 'originator': 390, 'audio': 390, 'month': 389, 'btw': 389, 'knew': 389, 'double': 388, 'wife': 388, 'disease': 387, 'utnut': 387, 'mother': 387, 'jack': 386, 'continue': 386, 'yeah': 386, 'regarding': 386, 'gif': 386, 'middle': 385, 'official': 385, 'apparently': 385, 'utk': 385, 'ucsu': 384, 'atf': 384, 'conference': 384, 'goal': 383, 'proof': 382, 'intercon': 382, 'georgia': 382, 'attempt': 381, 'van': 381, 'wpi': 381, 'require': 380, 'medicine': 380, 'input': 380, 'physical': 380, 'midway': 379, 'forget': 379, 'starting': 378, 'friends': 378, 'pass': 378, 'held': 378, 'teams': 377, 'psuvm': 377, 'switch': 376, 'studies': 375, 'lack': 375, 'solution': 374, 'obvious': 374, 'resources': 374, 'lower': 374, 'false': 374, 'pick': 374, 'cpu': 374, 'bhj': 374, 'guys': 373, 'limbaugh': 373, 'larry': 373, 'bits': 373, 'decided': 373, 'escrow': 373, 'watch': 372, 'avoid': 372, 'archive': 371, 'blood': 371, 'apply': 370, 'installed': 370, 'quote': 370, 'worked': 370, 'authority': 370, 'internal': 369, 'fonts': 369, 'homosexuality': 369, 'mary': 369, 'gay': 369, 'mormons': 368, 'suspect': 368, 'material': 368, 'protect': 368, 'murder': 368, 'amiga': 368, 'gone': 367, 'bell': 367, 'appear': 366, 'excellent': 366, 'supply': 366, 'rob': 365, 'hands': 365, 'natural': 365, 'chi': 365, 'uwaterloo': 365, 'member': 364, 'brought': 364, 'charles': 363, 'costs': 363, 'education': 363, 'led': 363, 'fans': 362, 'utoronto': 362, 'los': 360, 'apollo': 360, 'mailing': 359, 'decision': 359, 'electronic': 359, 'areas': 358, 'choose': 358, 'kevin': 358, 'nyx': 358, 'search': 357, 'range': 356, 'atlanta': 356, 'cambridge': 355, 'alan': 355, 'names': 355, 'caused': 355, 'trust': 355, 'addition': 355, 'col': 355, 'music': 354, 'worse': 354, 'suggestions': 354, 'perfect': 354, 'giz': 354, 'driving': 353, 'shipping': 353, 'somebody': 353, 'amendment': 353, 'zoo': 353, 'possibly': 353, 'doc': 352, 'heaven': 352, 'practice': 352, 'csus': 352, 'uwo': 351, 'giving': 351, 'fall': 350, 'print': 350, 'shows': 350, 'lehigh': 350, 'intel': 350, 'phil': 349, 'destroyer': 349, 'serdar': 348, 'former': 348, 'adam': 348, 'chips': 348, 'uoknor': 348, 'turned': 348, 'nigel': 348, 'contains': 347, 'xterm': 347, 'british': 346, 'firearms': 346, 'killing': 346, 'trade': 345, 'ira': 345, 'writing': 345, 'linac': 345, 'five': 345, 'ten': 345, 'basically': 345, 'rit': 345, 'fit': 344, 'orbit': 343, 'islam': 343, 'argic': 342, 'countries': 342, 'effective': 342, 'administrator': 342, 'ericsson': 341, 'posts': 341, 'tel': 341, 'leland': 341, 'respect': 340, 'understanding': 340, 'appreciate': 340, 'export': 340, 'comment': 340, 'articles': 340, 'dseg': 340, 'australia': 340, 'poor': 340, 'cross': 340, 'disks': 340, 'clarkson': 339, 'responsibility': 338, 'desire': 338, 'ron': 338, 'matt': 337, 'added': 337, 'gordon': 337, 'sold': 337, 'calls': 337, 'remote': 337, 'played': 337, 'protection': 337, 'social': 336, 'spirit': 336, 'picture': 336, 'nsa': 336, 'approach': 336, 'mathew': 336, 'ford': 336, 'programming': 336, 'appropriate': 335, 'provided': 335, 'earlier': 335, 'hot': 335, 'homosexual': 335, 'boulder': 335, 'ability': 334, 'expressed': 334, 'rich': 334, 'master': 333, 'vote': 333, 'justice': 333, 'particularly': 333, 'requires': 332, 'treatment': 332, 'fairly': 332, 'playing': 332, 'march': 332, 'mission': 332, 'closed': 331, 'arguments': 331, 'desy': 331, 'pts': 331, 'beginning': 331, 'prism': 331, 'wide': 330, 'stay': 330, 'modern': 330, 'regular': 329, 'temple': 329, 'setup': 329, 'pit': 329, 'jpeg': 329, 'seriously': 328, 'tamu': 328, 'born': 328, 'hey': 328, 'wpd': 328, 'vga': 327, 'hall': 327, 'floppy': 327, 'dwyer': 327, 'gsfc': 326, 'msu': 326, 'font': 326, 'secure': 326, 'sgiblab': 325, 'cult': 324, 'statements': 324, 'personally': 324, 'shell': 324, 'admin': 324, 'described': 324, 'fnal': 324, 'majority': 323, 'okstate': 323, 'lib': 323, 'berlin': 323, 'cancer': 323, 'senator': 322, 'prevent': 322, 'holy': 322, 'minutes': 322, 'direct': 321, 'lcs': 321, 'bruce': 321, 'msg': 321, 'signal': 320, 'increase': 320, 'straight': 320, 'reserve': 319, 'pictures': 319, 'paid': 318, 'absolutely': 318, 'dartmouth': 318, 'cray': 318, 'acts': 318, 'hello': 318, 'moon': 318, 'greatly': 317, 'calling': 317, 'postscript': 317, 'beliefs': 317, 'shouldn': 317, 'chem': 317, 'saturn': 317, 'william': 317, 'agents': 316, 'independent': 316, 'handle': 316, 'pain': 316, 'angeles': 316, 'pages': 315, 'serve': 315, 'dangerous': 315, 'rom': 315, 'skeptic': 315, 'concert': 315, 'dealer': 314, 'realize': 314, 'draw': 314, 'recall': 314, 'judge': 314, 'aware': 314, 'csc': 314, 'islamic': 314, 'atheist': 313, 'loss': 313, 'option': 313, 'effort': 312, 'hole': 312, 'activities': 312, 'nuclear': 312, 'boeing': 312, 'sera': 311, 'merely': 311, 'kept': 311, 'assuming': 311, 'unm': 311, 'standards': 310, 'expensive': 310, 'moment': 310, 'begin': 310, 'morning': 310, 'spot': 310, 'published': 310, 'considering': 310, 'branch': 309, 'panix': 309, 'german': 309, 'proper': 308, 'warning': 308, 'rice': 308, 'wright': 308, 'safe': 307, 'objects': 307, 'multiple': 307, 'tar': 307, 'share': 307, 'behavior': 307, 'tony': 307, 'notice': 306, 'changes': 306} 1500\n"
     ]
    }
   ],
   "source": [
    "x1=[] #Array to store the index of the word\n",
    "y1=[] #Array to store the count corresponding to the particular index\n",
    "count=0 #index starting from 0\n",
    "for word in words: #Loops appends the index in the x1 and number of /count of that word in y\n",
    "    x1.append(count) \n",
    "    count+=1\n",
    "    y1.append(words[word])\n",
    "plt.plot(x1,y1) #Plotting the graph\n",
    "plt.xlabel(\"Number of Words\") #xlabel number of words\n",
    "plt.ylabel(\"Frequency Of Words\") #ylabel count of words/frequency\n",
    "plt.axis([0,9000,1,4000]) #setting the axis\n",
    "plt.show()\n",
    "#Final words is the dictionary that contains the top 1500 words and the loop stores the top 2000 values in this dictioary from the words\n",
    "#dictionary\n",
    "final_words={}\n",
    "count=0\n",
    "for word in words:\n",
    "    if(count>=1500):\n",
    "        break\n",
    "    count+=1\n",
    "    final_words[word]=words[word]\n",
    "print(final_words,len(final_words)) #Printing the length of the final word or the words that are considered for classifications"
   ]
  },
  {
   "cell_type": "code",
   "execution_count": 5,
   "metadata": {},
   "outputs": [],
   "source": [
    "dataset_train=[] #Training dataset Array\n",
    "#This for loop is used to create the features array or the input data for the training set by counting each of the words in the\n",
    "#document and then comparing them with the finalised words and adding them onto the dataset_train\n",
    "for i in x_train:\n",
    "    i=i.lower() #making the whole document lower case\n",
    "    data=re.split(r'\\W+',i) #Spliiting the data on the bases of regular expression and W+ means alpha numeric data\n",
    "    word_freq={} #Word frequency dictionary for document\n",
    "    for word in data:\n",
    "        if(word in word_freq): #If present then incrementing the value else giving it the value 1\n",
    "            word_freq[word]=word_freq[word]+1\n",
    "        else:\n",
    "            word_freq[word]=1\n",
    "    word_count=[] #Word count represents the count of each words intersecting the final words and words in this document\n",
    "    for word in final_words: \n",
    "        word_count.append(word_freq.get(word,0)) #default value 0 will be given to the words that are present in the dictionary.\n",
    "    dataset_train.append(word_count) #Appending the word count array in the training dataset\n",
    "    \n",
    "dataset_test=[] #Array for the testing dataset\n",
    "#To create the testing dataset with the features i.e the word count for each words in the document intersecting with that in the\n",
    "#finalised words as done above for the training dataset.\n",
    "for i in x_test:\n",
    "    i=i.lower()\n",
    "    data=re.split(r'\\W+',i)\n",
    "    word_freq={}\n",
    "    for word in data:\n",
    "        if(word in word_freq):\n",
    "            word_freq[word]=word_freq[word]+1\n",
    "        else:\n",
    "            word_freq[word]=1\n",
    "    word_count=[]\n",
    "    for word in final_words:\n",
    "        word_count.append(word_freq.get(word,0))\n",
    "    dataset_test.append(word_count)\n"
   ]
  },
  {
   "cell_type": "code",
   "execution_count": 36,
   "metadata": {},
   "outputs": [],
   "source": [
    "def probability(result,curr_class,x): \n",
    "    out=(result[curr_class][\"length\"]/result[\"TotalData\"]) #Calculating the probability for this class or current class\n",
    "    features=len(result[curr_class].keys())-2 #Calculating the number of features or various words in document, -2 as keys like total\n",
    "    #words and length are also present\n",
    "    for j in range(features):\n",
    "        if(x[j]==0): #If the count of that word or frequency is zero, then it won't affect the probablity\n",
    "            continue\n",
    "        word_count=result[curr_class].get(j,0)+1 #getting the word count for word with lapla's correction\n",
    "        total_word=result[curr_class][\"TotalWords\"]+features #Getting the total count of words with lapla's correction\n",
    "        prob1=word_count/total_word #calculating the probability for that word\n",
    "        out=out*prob1 #mulitiplying it with the output\n",
    "    return out #returning the output\n",
    "def predict_for_single(x,result):\n",
    "    set_class=result.keys() #Getting the various classes or the keys of the dictionary\n",
    "    prob_max=-1 #initialising the maximum probablity\n",
    "    prob_class=-1 #Initialising the class\n",
    "    first=True #For first time in the loop\n",
    "    for cur_class in set_class:\n",
    "        if(cur_class==\"TotalData\"): #If key is total_data then it is not a class so continue\n",
    "            continue\n",
    "        prob=probability(result,cur_class,x) #Probability for each class\n",
    "        if(first or prob_max<prob):\n",
    "            prob_max=prob #if probability of this class is greater than the max_probablity, update it\n",
    "            prob_class=cur_class #updating the class\n",
    "        first=False #Setting the first visit false after first time in loop\n",
    "    return prob_class #returning the most probable class\n",
    "def predict(x_test,result): #The predict function which takes the x_test and the result dictionary after fitting data\n",
    "    y_pred=[]\n",
    "    for x in x_test:\n",
    "        y_class=predict_for_single(x,result) #Predicitng for each point in the x_test\n",
    "        y_pred.append(y_class) #Appending it to the result\n",
    "    return y_pred #Returning the Predicted Value"
   ]
  },
  {
   "cell_type": "code",
   "execution_count": 37,
   "metadata": {},
   "outputs": [],
   "source": [
    "def fit(dataset_train,y_train): #Function that is used to fit the training data or creating a dictionary for the training data\n",
    "    #it Takes the xtrain and ytrain as input\n",
    "    result={} #Storing the result dictionary\n",
    "    y_train=np.array(y_train) #Convering the y_train into np_array and x_train into np_array in subsequent line\n",
    "    x_train=np.array(dataset_train)\n",
    "    classes=set(y_train) #set for various types of classes in the output or Y\n",
    "    result[\"TotalData\"]=len(y_train) #The total number of output data or length of the output\n",
    "    for curr_class in classes: #Traversing the loop for various categories in the output and creating a dictionary for each of the category\n",
    "        #which stores the count of each words present in the class\n",
    "        result[curr_class]={}\n",
    "        y_curr_train=y_train[y_train==curr_class] #Extracting the data that belongs to the particular or current class\n",
    "        x_curr_train=x_train[y_train==curr_class] #Extracting the x_data that belongs to the particular class\n",
    "        result[curr_class][\"TotalWords\"]=sum((x_curr_train.sum(axis=1))) #Storing the total words that are present for this class\n",
    "        #in the dictionary\n",
    "        result[curr_class][\"length\"]=len(y_curr_train) #Storing the length or count of this class in the dictionary\n",
    "        features=x_train.shape[1] #Traversing the various features in the data or x_train\n",
    "        for i in range(features):\n",
    "            sum1=(x_curr_train[:,i]).sum() #Storing the sum or count of each words in the dictionary\n",
    "            result[curr_class][i]=sum1\n",
    "    return result #Returning the dictionary as the result"
   ]
  },
  {
   "cell_type": "code",
   "execution_count": 38,
   "metadata": {},
   "outputs": [],
   "source": [
    "result=fit(dataset_train,y_train) #Fitting the training data in the fir function and storing the result in dictionary\n",
    "y_pred=predict(dataset_test,result) #Predict function to predict the output which takes test data as input and result dictionary"
   ]
  },
  {
   "cell_type": "code",
   "execution_count": 40,
   "metadata": {},
   "outputs": [
    {
     "name": "stdout",
     "output_type": "stream",
     "text": [
      "5000\n",
      "3913\n",
      "The score for self Implemented Text Classification using Naive Baeys is\n",
      "78.26\n"
     ]
    }
   ],
   "source": [
    "print(len(y_pred)) #Printing the length of y_prediction\n",
    "y_pred=np.array(y_pred) #creating an np Array for y_pred\n",
    "count=0\n",
    "for x in range(len(y_pred)): \n",
    "    if(y_pred[x]==y_test[x]): #Checking the accuracy of the data and then if it matches then printing the output\n",
    "        count=count+1\n",
    "score1=count/len(y_pred)*100\n",
    "print(count) #The length of the matching output or accuracy\n",
    "print(\"The score for self Implemented Text Classification using Naive Baeys is\")\n",
    "print(round(count/len(y_pred)*100,2)) #Calculating the score for the data"
   ]
  },
  {
   "cell_type": "code",
   "execution_count": 41,
   "metadata": {},
   "outputs": [
    {
     "name": "stdout",
     "output_type": "stream",
     "text": [
      "-------THE CONFUSION MATRIX FOR SELF IMPLEMENTED NAIVE BAEYS IS--------------\n",
      "[[174   0   0   0   0   0   1   1   1   2   0   0   0   2   0   0   0   0\n",
      "   34  18]\n",
      " [  0 187   3  20   6   2   4   0   0   1   0   0   4   1   0   0   0   0\n",
      "   25   0]\n",
      " [  0  20 163  20   5  22   3   0   0   0   0   2   2   0   1   0   0   0\n",
      "   11   0]\n",
      " [  0   2   0 191  30   0   4   0   0   0   0   0   1   0   0   0   0   0\n",
      "   12   0]\n",
      " [  0   2   0  19 199   0   6   0   0   0   0   0   0   0   0   0   0   0\n",
      "   10   0]\n",
      " [  0  22  14   7   5 180   1   0   0   0   0   1   2   0   0   0   0   0\n",
      "    8   0]\n",
      " [  0   0   0   8   1   0 231   6   0   0   0   0   4   1   1   0   0   0\n",
      "    9   0]\n",
      " [  0   0   0   0   1   0  10 239   2   0   0   0   4   0   0   0   0   0\n",
      "   13   0]\n",
      " [  0   0   0   0   0   0   3   2 269   0   0   0   0   0   0   0   0   0\n",
      "   10   0]\n",
      " [  0   0   0   0   0   0   1   0   2 212  12   0   0   0   0   0   0   0\n",
      "   21   0]\n",
      " [  0   0   0   0   0   0   1   0   0   3 202   0   0   0   0   0   0   0\n",
      "   25   0]\n",
      " [  0   2   0   0   0   1   0   0   0   0   0 174   4   1   0   0   0   0\n",
      "   51   0]\n",
      " [  0   3   0   5   1   0   3   2   0   0   0   0 216   1   0   0   0   0\n",
      "   13   0]\n",
      " [  0   3   0   0   0   0   0   1   6   0   0   0   5 207   0   0   0   0\n",
      "   34   0]\n",
      " [  0   3   0   0   0   0   1   0   1   0   0   0   5   3 202   0   0   0\n",
      "   31   0]\n",
      " [  0   0   0   0   0   0   0   0   0   0   0   0   0   0   0 197   0   0\n",
      "   55   0]\n",
      " [  0   0   0   0   0   0   0   0   2   0   1   2   0   0   0   0 182   0\n",
      "   60   2]\n",
      " [  0   0   0   0   0   0   0   0   0   0   0   0   0   0   3   0   5 185\n",
      "   87   1]\n",
      " [  0   0   0   0   0   0   1   0   0   1   0   1   1   2   3   0  33  10\n",
      "  196  11]\n",
      " [ 43   1   0   0   0   0   1   0   0   0   0   1   1   0   0   0  10   0\n",
      "   72 107]]\n",
      "-------THE CLASSIFICATION REPORT FOR SELF IMPLEMENTED NAIVE BAEYS IS---------\n",
      "                          precision    recall  f1-score   support\n",
      "\n",
      "             alt.atheism       0.80      0.75      0.77       233\n",
      "           comp.graphics       0.76      0.74      0.75       253\n",
      " comp.os.ms-windows.misc       0.91      0.65      0.76       249\n",
      "comp.sys.ibm.pc.hardware       0.71      0.80      0.75       240\n",
      "   comp.sys.mac.hardware       0.80      0.84      0.82       236\n",
      "          comp.windows.x       0.88      0.75      0.81       240\n",
      "            misc.forsale       0.85      0.89      0.87       261\n",
      "               rec.autos       0.95      0.89      0.92       269\n",
      "         rec.motorcycles       0.95      0.95      0.95       284\n",
      "      rec.sport.baseball       0.97      0.85      0.91       248\n",
      "        rec.sport.hockey       0.94      0.87      0.91       231\n",
      "               sci.crypt       0.96      0.75      0.84       233\n",
      "         sci.electronics       0.87      0.89      0.88       244\n",
      "                 sci.med       0.95      0.81      0.87       256\n",
      "               sci.space       0.96      0.82      0.89       246\n",
      "  soc.religion.christian       1.00      0.78      0.88       252\n",
      "      talk.politics.guns       0.79      0.73      0.76       249\n",
      "   talk.politics.mideast       0.95      0.66      0.78       281\n",
      "      talk.politics.misc       0.25      0.76      0.38       259\n",
      "      talk.religion.misc       0.77      0.45      0.57       236\n",
      "\n",
      "                accuracy                           0.78      5000\n",
      "               macro avg       0.85      0.78      0.80      5000\n",
      "            weighted avg       0.85      0.78      0.80      5000\n",
      "\n"
     ]
    }
   ],
   "source": [
    "print(\"-------THE CONFUSION MATRIX FOR SELF IMPLEMENTED NAIVE BAEYS IS--------------\")\n",
    "print(confusion_matrix(y_test,y_pred))#Prininting the Confusion MAtrix for Self Implemented NAive Baeys\n",
    "print(\"-------THE CLASSIFICATION REPORT FOR SELF IMPLEMENTED NAIVE BAEYS IS---------\")\n",
    "print(classification_report(y_test,y_pred))#Printing the Classification Report for Self Implemented NAive Baeys"
   ]
  },
  {
   "cell_type": "code",
   "execution_count": 42,
   "metadata": {},
   "outputs": [
    {
     "name": "stdout",
     "output_type": "stream",
     "text": [
      "5000 5000\n"
     ]
    }
   ],
   "source": [
    "#Using the Inbuilt Naieve Baeys For CLasssification\n",
    "nb=GaussianNB() #The inbuilt GaussianNB classifier\n",
    "nb.fit(np.array(dataset_train),np.array(y_train)) #Fitting the data into the classifier\n",
    "y_pred_1=nb.predict(np.array(dataset_test))#Predicting the y values for the test data\n",
    "print(len(y_pred_1),len(dataset_test))"
   ]
  },
  {
   "cell_type": "code",
   "execution_count": 43,
   "metadata": {},
   "outputs": [
    {
     "name": "stdout",
     "output_type": "stream",
     "text": [
      "The Score for Inbuilt Naive Bayes Classifier is\n",
      "66.92\n"
     ]
    }
   ],
   "source": [
    "count1=0\n",
    "for i in range(len(y_pred_1)): #Counting the values that match the testing data for calculating the score\n",
    "    if(y_pred_1[i]==y_test[i]):\n",
    "        count1=count1+1\n",
    "score2=count1/len(y_pred_1)*100 #The score for Inbuilt naive BAyes Classifier\n",
    "print(\"The Score for Inbuilt Naive Bayes Classifier is\")\n",
    "print(score2)"
   ]
  },
  {
   "cell_type": "code",
   "execution_count": 44,
   "metadata": {},
   "outputs": [
    {
     "name": "stdout",
     "output_type": "stream",
     "text": [
      "----------The confusion Matrix for Inbuilt Naive Bayes is-----------------\n",
      "[[207   0   0   0   0   0   0   0   0   0   0   0   0   0   0   2   0   4\n",
      "    0  20]\n",
      " [  0  62  53  22  64  22   7   0   3   4   0   5   2   5   3   0   0   0\n",
      "    1   0]\n",
      " [  0   8 132  30  52   5   9   0   0   0   0   3   6   2   1   0   1   0\n",
      "    0   0]\n",
      " [  0   4  14 114  82   0  15   0   3   0   0   0   8   0   0   0   0   0\n",
      "    0   0]\n",
      " [  0   4  11  17 190   2   6   0   0   0   0   0   5   1   0   0   0   0\n",
      "    0   0]\n",
      " [  0  23  36  13  54 103   6   2   0   0   0   2   0   0   1   0   0   0\n",
      "    0   0]\n",
      " [  0   4   7  10  48   0 154  17  10   0   0   0   8   0   3   0   0   0\n",
      "    0   0]\n",
      " [  1   0   0   0   0   0  27 176  41   1   7   0  10   0   0   0   5   1\n",
      "    0   0]\n",
      " [  0   0   1   0   0   0  10  34 234   0   0   0   1   0   0   0   4   0\n",
      "    0   0]\n",
      " [  0   0   0   0   0   0   5   0   6 187  32   0   0   0   9   0   7   2\n",
      "    0   0]\n",
      " [  0   0   0   0   0   0   3   0   0  26 201   0   0   0   0   0   0   1\n",
      "    0   0]\n",
      " [  1   0   0   0   0   0   0   0   0   0   0 224   0   0   0   0   8   0\n",
      "    0   0]\n",
      " [  0   8   6  18  61   0  24  14   0   0   0   1 103   2   5   0   1   1\n",
      "    0   0]\n",
      " [  0   1   1   1  24   1   9   5  19  19   0   4   4 160   0   0   1   1\n",
      "    2   4]\n",
      " [  2  11   4   2   8   3   5   3   2   7   0   2  13   4 176   0   0   1\n",
      "    3   0]\n",
      " [  0   0   0   0   0   0   0   0   0   0   0   0   0   0   0 249   0   1\n",
      "    0   2]\n",
      " [  1   0   0   0   0   0   0   0   8   0   0  12   0   0   1   0 200   4\n",
      "   15   8]\n",
      " [  0   0   0   0   0   0   0   0   0   0   0   0   0   0   0   0   4 260\n",
      "   14   3]\n",
      " [  5   0   0   1   0   0   0   0   5   6   1   8   0   3   3   0  59  19\n",
      "  117  32]\n",
      " [ 77   0   0   0   0   0   1   0   1   2   4   0   1   0   0   4  29   5\n",
      "   15  97]]\n",
      "----------The classification Report for Inbuilt Naive Bayes is-------------\n",
      "                          precision    recall  f1-score   support\n",
      "\n",
      "             alt.atheism       0.70      0.89      0.79       233\n",
      "           comp.graphics       0.50      0.25      0.33       253\n",
      " comp.os.ms-windows.misc       0.50      0.53      0.51       249\n",
      "comp.sys.ibm.pc.hardware       0.50      0.47      0.49       240\n",
      "   comp.sys.mac.hardware       0.33      0.81      0.46       236\n",
      "          comp.windows.x       0.76      0.43      0.55       240\n",
      "            misc.forsale       0.55      0.59      0.57       261\n",
      "               rec.autos       0.70      0.65      0.68       269\n",
      "         rec.motorcycles       0.70      0.82      0.76       284\n",
      "      rec.sport.baseball       0.74      0.75      0.75       248\n",
      "        rec.sport.hockey       0.82      0.87      0.84       231\n",
      "               sci.crypt       0.86      0.96      0.91       233\n",
      "         sci.electronics       0.64      0.42      0.51       244\n",
      "                 sci.med       0.90      0.62      0.74       256\n",
      "               sci.space       0.87      0.72      0.79       246\n",
      "  soc.religion.christian       0.98      0.99      0.98       252\n",
      "      talk.politics.guns       0.63      0.80      0.70       249\n",
      "   talk.politics.mideast       0.87      0.93      0.90       281\n",
      "      talk.politics.misc       0.70      0.45      0.55       259\n",
      "      talk.religion.misc       0.58      0.41      0.48       236\n",
      "\n",
      "                accuracy                           0.67      5000\n",
      "               macro avg       0.69      0.67      0.66      5000\n",
      "            weighted avg       0.69      0.67      0.67      5000\n",
      "\n"
     ]
    }
   ],
   "source": [
    "print(\"----------The confusion Matrix for Inbuilt Naive Bayes is-----------------\")\n",
    "print(confusion_matrix(y_test,y_pred_1)) #Printing the ConfusionMatrix for inbuilt naive bayes\n",
    "print(\"----------The classification Report for Inbuilt Naive Bayes is-------------\")\n",
    "print(classification_report(y_test,y_pred_1)) #Printing the Clasification Report for inbuilt naive bayes"
   ]
  },
  {
   "cell_type": "code",
   "execution_count": 45,
   "metadata": {},
   "outputs": [
    {
     "name": "stdout",
     "output_type": "stream",
     "text": [
      "The score for Inbuilt Naive Bayes is 66.92\n",
      "The score for self-Implemented Naive Bayes is 78.26\n"
     ]
    }
   ],
   "source": [
    "print(\"The score for Inbuilt Naive Bayes is\",score2)\n",
    "print(\"The score for self-Implemented Naive Bayes is\",round(score1,2))\n",
    "#Comparing the Score for self implelemted Naive Bayes vs inbuilt Naive Nayes"
   ]
  }
 ],
 "metadata": {
  "kernelspec": {
   "display_name": "Python 3",
   "language": "python",
   "name": "python3"
  },
  "language_info": {
   "codemirror_mode": {
    "name": "ipython",
    "version": 3
   },
   "file_extension": ".py",
   "mimetype": "text/x-python",
   "name": "python",
   "nbconvert_exporter": "python",
   "pygments_lexer": "ipython3",
   "version": "3.8.3"
  }
 },
 "nbformat": 4,
 "nbformat_minor": 4
}
